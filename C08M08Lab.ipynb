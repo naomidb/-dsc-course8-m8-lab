{
 "cells": [
  {
   "cell_type": "code",
   "execution_count": 1,
   "id": "c6a62ac9",
   "metadata": {},
   "outputs": [],
   "source": [
    "# Import Libraries\n",
    "import pandas as pd\n",
    "import numpy as np\n",
    "import matplotlib.pyplot as plt\n",
    "import seaborn as sns\n",
    "from sklearn.cluster import KMeans\n",
    "from sklearn.mixture import GaussianMixture\n",
    "from sklearn.preprocessing import StandardScaler, MinMaxScaler\n",
    "from sklearn.metrics import classification_report, confusion_matrix, accuracy_score, silhouette_score\n",
    "from sklearn.model_selection import train_test_split, GridSearchCV, cross_val_score\n",
    "from sklearn.neighbors import KNeighborsClassifier\n",
    "from sklearn.decomposition import PCA\n",
    "from sklearn.metrics.pairwise import cosine_similarity"
   ]
  },
  {
   "cell_type": "markdown",
   "id": "30c6f9fa",
   "metadata": {},
   "source": [
    "# Wine Classification System (Wine Dataset)\n",
    "\n",
    "Using k_nearest Neighbors (k-NN) with PCA, crate a classification model to identify wine varieties from their measurable attributes."
   ]
  },
  {
   "cell_type": "markdown",
   "id": "981edd48",
   "metadata": {},
   "source": [
    "## Load and Prepare Dataset"
   ]
  },
  {
   "cell_type": "code",
   "execution_count": 2,
   "id": "7f7df9d3",
   "metadata": {},
   "outputs": [
    {
     "name": "stdout",
     "output_type": "stream",
     "text": [
      "<class 'pandas.core.frame.DataFrame'>\n",
      "RangeIndex: 178 entries, 0 to 177\n",
      "Data columns (total 14 columns):\n",
      " #   Column                        Non-Null Count  Dtype  \n",
      "---  ------                        --------------  -----  \n",
      " 0   alcohol                       178 non-null    float64\n",
      " 1   malic_acid                    178 non-null    float64\n",
      " 2   ash                           178 non-null    float64\n",
      " 3   alcalinity_of_ash             178 non-null    float64\n",
      " 4   magnesium                     178 non-null    float64\n",
      " 5   total_phenols                 178 non-null    float64\n",
      " 6   flavanoids                    178 non-null    float64\n",
      " 7   nonflavanoid_phenols          178 non-null    float64\n",
      " 8   proanthocyanins               178 non-null    float64\n",
      " 9   color_intensity               178 non-null    float64\n",
      " 10  hue                           178 non-null    float64\n",
      " 11  od280/od315_of_diluted_wines  178 non-null    float64\n",
      " 12  proline                       178 non-null    float64\n",
      " 13  target                        178 non-null    int64  \n",
      "dtypes: float64(13), int64(1)\n",
      "memory usage: 19.6 KB\n",
      "None\n"
     ]
    },
    {
     "data": {
      "text/html": [
       "<div>\n",
       "<style scoped>\n",
       "    .dataframe tbody tr th:only-of-type {\n",
       "        vertical-align: middle;\n",
       "    }\n",
       "\n",
       "    .dataframe tbody tr th {\n",
       "        vertical-align: top;\n",
       "    }\n",
       "\n",
       "    .dataframe thead th {\n",
       "        text-align: right;\n",
       "    }\n",
       "</style>\n",
       "<table border=\"1\" class=\"dataframe\">\n",
       "  <thead>\n",
       "    <tr style=\"text-align: right;\">\n",
       "      <th></th>\n",
       "      <th>alcohol</th>\n",
       "      <th>malic_acid</th>\n",
       "      <th>ash</th>\n",
       "      <th>alcalinity_of_ash</th>\n",
       "      <th>magnesium</th>\n",
       "      <th>total_phenols</th>\n",
       "      <th>flavanoids</th>\n",
       "      <th>nonflavanoid_phenols</th>\n",
       "      <th>proanthocyanins</th>\n",
       "      <th>color_intensity</th>\n",
       "      <th>hue</th>\n",
       "      <th>od280/od315_of_diluted_wines</th>\n",
       "      <th>proline</th>\n",
       "      <th>target</th>\n",
       "    </tr>\n",
       "  </thead>\n",
       "  <tbody>\n",
       "    <tr>\n",
       "      <th>0</th>\n",
       "      <td>14.23</td>\n",
       "      <td>1.71</td>\n",
       "      <td>2.43</td>\n",
       "      <td>15.6</td>\n",
       "      <td>127.0</td>\n",
       "      <td>2.80</td>\n",
       "      <td>3.06</td>\n",
       "      <td>0.28</td>\n",
       "      <td>2.29</td>\n",
       "      <td>5.64</td>\n",
       "      <td>1.04</td>\n",
       "      <td>3.92</td>\n",
       "      <td>1065.0</td>\n",
       "      <td>0</td>\n",
       "    </tr>\n",
       "    <tr>\n",
       "      <th>1</th>\n",
       "      <td>13.20</td>\n",
       "      <td>1.78</td>\n",
       "      <td>2.14</td>\n",
       "      <td>11.2</td>\n",
       "      <td>100.0</td>\n",
       "      <td>2.65</td>\n",
       "      <td>2.76</td>\n",
       "      <td>0.26</td>\n",
       "      <td>1.28</td>\n",
       "      <td>4.38</td>\n",
       "      <td>1.05</td>\n",
       "      <td>3.40</td>\n",
       "      <td>1050.0</td>\n",
       "      <td>0</td>\n",
       "    </tr>\n",
       "    <tr>\n",
       "      <th>2</th>\n",
       "      <td>13.16</td>\n",
       "      <td>2.36</td>\n",
       "      <td>2.67</td>\n",
       "      <td>18.6</td>\n",
       "      <td>101.0</td>\n",
       "      <td>2.80</td>\n",
       "      <td>3.24</td>\n",
       "      <td>0.30</td>\n",
       "      <td>2.81</td>\n",
       "      <td>5.68</td>\n",
       "      <td>1.03</td>\n",
       "      <td>3.17</td>\n",
       "      <td>1185.0</td>\n",
       "      <td>0</td>\n",
       "    </tr>\n",
       "    <tr>\n",
       "      <th>3</th>\n",
       "      <td>14.37</td>\n",
       "      <td>1.95</td>\n",
       "      <td>2.50</td>\n",
       "      <td>16.8</td>\n",
       "      <td>113.0</td>\n",
       "      <td>3.85</td>\n",
       "      <td>3.49</td>\n",
       "      <td>0.24</td>\n",
       "      <td>2.18</td>\n",
       "      <td>7.80</td>\n",
       "      <td>0.86</td>\n",
       "      <td>3.45</td>\n",
       "      <td>1480.0</td>\n",
       "      <td>0</td>\n",
       "    </tr>\n",
       "    <tr>\n",
       "      <th>4</th>\n",
       "      <td>13.24</td>\n",
       "      <td>2.59</td>\n",
       "      <td>2.87</td>\n",
       "      <td>21.0</td>\n",
       "      <td>118.0</td>\n",
       "      <td>2.80</td>\n",
       "      <td>2.69</td>\n",
       "      <td>0.39</td>\n",
       "      <td>1.82</td>\n",
       "      <td>4.32</td>\n",
       "      <td>1.04</td>\n",
       "      <td>2.93</td>\n",
       "      <td>735.0</td>\n",
       "      <td>0</td>\n",
       "    </tr>\n",
       "  </tbody>\n",
       "</table>\n",
       "</div>"
      ],
      "text/plain": [
       "   alcohol  malic_acid   ash  alcalinity_of_ash  magnesium  total_phenols  \\\n",
       "0    14.23        1.71  2.43               15.6      127.0           2.80   \n",
       "1    13.20        1.78  2.14               11.2      100.0           2.65   \n",
       "2    13.16        2.36  2.67               18.6      101.0           2.80   \n",
       "3    14.37        1.95  2.50               16.8      113.0           3.85   \n",
       "4    13.24        2.59  2.87               21.0      118.0           2.80   \n",
       "\n",
       "   flavanoids  nonflavanoid_phenols  proanthocyanins  color_intensity   hue  \\\n",
       "0        3.06                  0.28             2.29             5.64  1.04   \n",
       "1        2.76                  0.26             1.28             4.38  1.05   \n",
       "2        3.24                  0.30             2.81             5.68  1.03   \n",
       "3        3.49                  0.24             2.18             7.80  0.86   \n",
       "4        2.69                  0.39             1.82             4.32  1.04   \n",
       "\n",
       "   od280/od315_of_diluted_wines  proline  target  \n",
       "0                          3.92   1065.0       0  \n",
       "1                          3.40   1050.0       0  \n",
       "2                          3.17   1185.0       0  \n",
       "3                          3.45   1480.0       0  \n",
       "4                          2.93    735.0       0  "
      ]
     },
     "execution_count": 2,
     "metadata": {},
     "output_type": "execute_result"
    }
   ],
   "source": [
    "wine_df = pd.read_csv('wine_data.csv')\n",
    "\n",
    "print(wine_df.info())\n",
    "wine_df.head()"
   ]
  },
  {
   "cell_type": "code",
   "execution_count": 4,
   "id": "8481f988",
   "metadata": {},
   "outputs": [
    {
     "data": {
      "text/plain": [
       "1    0.398876\n",
       "0    0.331461\n",
       "2    0.269663\n",
       "Name: target, dtype: float64"
      ]
     },
     "execution_count": 4,
     "metadata": {},
     "output_type": "execute_result"
    }
   ],
   "source": [
    "wine_df['target'].value_counts(normalize=True)"
   ]
  },
  {
   "cell_type": "code",
   "execution_count": 5,
   "id": "85f064ed",
   "metadata": {},
   "outputs": [
    {
     "data": {
      "text/plain": [
       "((178, 14), (178, 13))"
      ]
     },
     "execution_count": 5,
     "metadata": {},
     "output_type": "execute_result"
    }
   ],
   "source": [
    "# Prepare features (X) and target (y)\n",
    "wine_X = wine_df.drop('target', axis=1)\n",
    "wine_y = wine_df['target']\n",
    "\n",
    "# Standardize the data\n",
    "scaler = StandardScaler()\n",
    "wine_X_scaled = scaler.fit_transform(wine_X)\n",
    "\n",
    "wine_df.shape, wine_X_scaled.shape"
   ]
  },
  {
   "cell_type": "markdown",
   "id": "e35c9362",
   "metadata": {},
   "source": [
    "## k-Nearest Neighbors (k-NN) Classification"
   ]
  },
  {
   "cell_type": "code",
   "execution_count": 6,
   "id": "39bd0a6e",
   "metadata": {},
   "outputs": [],
   "source": [
    "# Initialize PCA\n",
    "wine_pca = PCA()\n",
    "\n",
    "# Fit PCA model to scaled data\n",
    "wine_pca.fit(wine_X_scaled)\n",
    "\n",
    "# Get explained variance ratio\n",
    "wine_explained_variance_ratio = wine_pca.explained_variance_ratio_\n",
    "\n",
    "# Tranform the standardized data to get prinicpal components\n",
    "wine_X_pca = wine_pca.transform(wine_X_scaled)\n",
    "\n",
    "# Create DataFrame with principal components\n",
    "wine_pca_df = pd.DataFrame(\n",
    "    data = wine_X_pca,\n",
    "    columns=[f'PC{i+1}' for i in range (wine_X_pca.shape[1])]\n",
    ")\n",
    "wine_pca_df['target'] = wine_df['target']\n",
    "wine_cumulative_variance = np.cumsum(wine_explained_variance_ratio)"
   ]
  },
  {
   "cell_type": "code",
   "execution_count": 7,
   "id": "e67d59ca",
   "metadata": {},
   "outputs": [
    {
     "data": {
      "image/png": "[encoded data removed]",
      "text/plain": [
       "<Figure size 1000x600 with 1 Axes>"
      ]
     },
     "metadata": {},
     "output_type": "display_data"
    },
    {
     "name": "stdout",
     "output_type": "stream",
     "text": [
      "Components needed for 95% variance: 10\n"
     ]
    }
   ],
   "source": [
    "plt.figure(figsize=(10,6))\n",
    "plt.plot(range(1, len(wine_cumulative_variance)+1), wine_cumulative_variance, 'o-',\n",
    "         linewidth='2', color='purple')\n",
    "plt.axhline(y=0.95, color='r', linestyle='--', label='95% threshold')\n",
    "plt.title('Cumulative Variance Explained')\n",
    "plt.xlabel('Number of Components')\n",
    "plt.ylabel('Cumulative Variance Explained')\n",
    "plt.legend()\n",
    "plt.grid(True)\n",
    "plt.show()\n",
    "\n",
    "wine_n_components_variance = np.argmax(wine_cumulative_variance >= 0.95) + 1\n",
    "print(f\"Components needed for 95% variance: {wine_n_components_variance}\")"
   ]
  },
  {
   "cell_type": "code",
   "execution_count": 8,
   "id": "0d3d30b0",
   "metadata": {},
   "outputs": [
    {
     "data": {
      "text/html": [
       "<div>\n",
       "<style scoped>\n",
       "    .dataframe tbody tr th:only-of-type {\n",
       "        vertical-align: middle;\n",
       "    }\n",
       "\n",
       "    .dataframe tbody tr th {\n",
       "        vertical-align: top;\n",
       "    }\n",
       "\n",
       "    .dataframe thead th {\n",
       "        text-align: right;\n",
       "    }\n",
       "</style>\n",
       "<table border=\"1\" class=\"dataframe\">\n",
       "  <thead>\n",
       "    <tr style=\"text-align: right;\">\n",
       "      <th></th>\n",
       "      <th>PC1</th>\n",
       "      <th>PC2</th>\n",
       "      <th>PC3</th>\n",
       "      <th>PC4</th>\n",
       "      <th>PC5</th>\n",
       "      <th>PC6</th>\n",
       "      <th>PC7</th>\n",
       "      <th>PC8</th>\n",
       "      <th>PC9</th>\n",
       "      <th>PC10</th>\n",
       "      <th>PC11</th>\n",
       "      <th>PC12</th>\n",
       "      <th>PC13</th>\n",
       "      <th>target</th>\n",
       "    </tr>\n",
       "  </thead>\n",
       "  <tbody>\n",
       "    <tr>\n",
       "      <th>0</th>\n",
       "      <td>3.316751</td>\n",
       "      <td>-1.443463</td>\n",
       "      <td>-0.165739</td>\n",
       "      <td>-0.215631</td>\n",
       "      <td>0.693043</td>\n",
       "      <td>-0.223880</td>\n",
       "      <td>0.596427</td>\n",
       "      <td>0.065139</td>\n",
       "      <td>0.641443</td>\n",
       "      <td>1.020956</td>\n",
       "      <td>-0.451563</td>\n",
       "      <td>0.540810</td>\n",
       "      <td>-0.066239</td>\n",
       "      <td>0</td>\n",
       "    </tr>\n",
       "    <tr>\n",
       "      <th>1</th>\n",
       "      <td>2.209465</td>\n",
       "      <td>0.333393</td>\n",
       "      <td>-2.026457</td>\n",
       "      <td>-0.291358</td>\n",
       "      <td>-0.257655</td>\n",
       "      <td>-0.927120</td>\n",
       "      <td>0.053776</td>\n",
       "      <td>1.024416</td>\n",
       "      <td>-0.308847</td>\n",
       "      <td>0.159701</td>\n",
       "      <td>-0.142657</td>\n",
       "      <td>0.388238</td>\n",
       "      <td>0.003637</td>\n",
       "      <td>0</td>\n",
       "    </tr>\n",
       "    <tr>\n",
       "      <th>2</th>\n",
       "      <td>2.516740</td>\n",
       "      <td>-1.031151</td>\n",
       "      <td>0.982819</td>\n",
       "      <td>0.724902</td>\n",
       "      <td>-0.251033</td>\n",
       "      <td>0.549276</td>\n",
       "      <td>0.424205</td>\n",
       "      <td>-0.344216</td>\n",
       "      <td>-1.177834</td>\n",
       "      <td>0.113361</td>\n",
       "      <td>-0.286673</td>\n",
       "      <td>0.000584</td>\n",
       "      <td>0.021717</td>\n",
       "      <td>0</td>\n",
       "    </tr>\n",
       "    <tr>\n",
       "      <th>3</th>\n",
       "      <td>3.757066</td>\n",
       "      <td>-2.756372</td>\n",
       "      <td>-0.176192</td>\n",
       "      <td>0.567983</td>\n",
       "      <td>-0.311842</td>\n",
       "      <td>0.114431</td>\n",
       "      <td>-0.383337</td>\n",
       "      <td>0.643593</td>\n",
       "      <td>0.052544</td>\n",
       "      <td>0.239413</td>\n",
       "      <td>0.759584</td>\n",
       "      <td>-0.242020</td>\n",
       "      <td>-0.369484</td>\n",
       "      <td>0</td>\n",
       "    </tr>\n",
       "    <tr>\n",
       "      <th>4</th>\n",
       "      <td>1.008908</td>\n",
       "      <td>-0.869831</td>\n",
       "      <td>2.026688</td>\n",
       "      <td>-0.409766</td>\n",
       "      <td>0.298458</td>\n",
       "      <td>-0.406520</td>\n",
       "      <td>0.444074</td>\n",
       "      <td>0.416700</td>\n",
       "      <td>0.326819</td>\n",
       "      <td>-0.078366</td>\n",
       "      <td>-0.525945</td>\n",
       "      <td>-0.216664</td>\n",
       "      <td>-0.079364</td>\n",
       "      <td>0</td>\n",
       "    </tr>\n",
       "  </tbody>\n",
       "</table>\n",
       "</div>"
      ],
      "text/plain": [
       "        PC1       PC2       PC3       PC4       PC5       PC6       PC7  \\\n",
       "0  3.316751 -1.443463 -0.165739 -0.215631  0.693043 -0.223880  0.596427   \n",
       "1  2.209465  0.333393 -2.026457 -0.291358 -0.257655 -0.927120  0.053776   \n",
       "2  2.516740 -1.031151  0.982819  0.724902 -0.251033  0.549276  0.424205   \n",
       "3  3.757066 -2.756372 -0.176192  0.567983 -0.311842  0.114431 -0.383337   \n",
       "4  1.008908 -0.869831  2.026688 -0.409766  0.298458 -0.406520  0.444074   \n",
       "\n",
       "        PC8       PC9      PC10      PC11      PC12      PC13  target  \n",
       "0  0.065139  0.641443  1.020956 -0.451563  0.540810 -0.066239       0  \n",
       "1  1.024416 -0.308847  0.159701 -0.142657  0.388238  0.003637       0  \n",
       "2 -0.344216 -1.177834  0.113361 -0.286673  0.000584  0.021717       0  \n",
       "3  0.643593  0.052544  0.239413  0.759584 -0.242020 -0.369484       0  \n",
       "4  0.416700  0.326819 -0.078366 -0.525945 -0.216664 -0.079364       0  "
      ]
     },
     "execution_count": 8,
     "metadata": {},
     "output_type": "execute_result"
    }
   ],
   "source": [
    "wine_pca_df.head()"
   ]
  },
  {
   "cell_type": "code",
   "execution_count": 9,
   "id": "458eeeb1",
   "metadata": {},
   "outputs": [],
   "source": [
    "# Prepare features and target for post-PCA data\n",
    "wine_pca_X = wine_pca_df.drop('target', axis=1)\n",
    "wine_pca_y = wine_pca_df['target']\n",
    "\n",
    "# Split the data into training and testing sets (75-25 split)\n",
    "wine_pca_X_train, wine_pca_X_test, wine_pca_y_train, wine_pca_y_test = train_test_split(wine_pca_X, wine_pca_y, test_size=0.25, random_state=42)"
   ]
  },
  {
   "cell_type": "code",
   "execution_count": 10,
   "id": "68aaa9d2",
   "metadata": {},
   "outputs": [
    {
     "name": "stdout",
     "output_type": "stream",
     "text": [
      "Starting grid search for standard metrics...\n"
     ]
    },
    {
     "name": "stdout",
     "output_type": "stream",
     "text": [
      "Best parameters (standard metrics): {'algorithm': 'auto', 'metric': 'euclidean', 'n_neighbors': 5, 'weights': 'uniform'}\n",
      "Best cross-validation accuracy: 0.9479\n",
      "\n",
      "Starting grid search for Mahalanobis metric...\n",
      "Best parameters (Mahalanobis): {'algorithm': 'auto', 'n_neighbors': 7, 'weights': 'distance'}\n",
      "Best cross-validation accuracy: 0.9325\n",
      "\n",
      "Overall best model: Standard\n",
      "Best parameters: {'algorithm': 'auto', 'metric': 'euclidean', 'n_neighbors': 5, 'weights': 'uniform'}\n",
      "Best cross-validation accuracy: 0.9479\n"
     ]
    }
   ],
   "source": [
    "# Covariance matric for Mahalanobis distance\n",
    "wine_cov = np.cov(wine_pca_X, rowvar=False)\n",
    "\n",
    "# Parameters to test\n",
    "wine_param_grid = {\n",
    "    'n_neighbors': list(range(1, 11, 2)), #There are 10 components, we check odd values from 1-9\n",
    "    'weights': ['uniform', 'distance'],\n",
    "    'metric': ['euclidean', 'manhattan', 'chebyshev'],\n",
    "    'algorithm': ['auto']\n",
    "}\n",
    "\n",
    "# Create KNN model\n",
    "wine_knn = KNeighborsClassifier()\n",
    "\n",
    "# Perform grid search\n",
    "print(\"Starting grid search for standard metrics...\")\n",
    "wine_grid_search = GridSearchCV(wine_knn, wine_param_grid, cv=5, scoring='accuracy', n_jobs=-1)\n",
    "wine_grid_search.fit(wine_pca_X_train, wine_pca_y_train)\n",
    "\n",
    "# Get best parameters and score\n",
    "standard_best_params = wine_grid_search.best_params_\n",
    "standard_best_score = wine_grid_search.best_score_\n",
    "print(f\"Best parameters (standard metrics): {standard_best_params}\")\n",
    "print(f\"Best cross-validation accuracy: {standard_best_score:.4f}\")\n",
    "\n",
    "# Mahalanobis check\n",
    "# Custom KNN model\n",
    "wine_knn_mahalanobis = KNeighborsClassifier(metric='mahalanobis', metric_params={'V': wine_cov})\n",
    "\n",
    "# Param grid\n",
    "wine_param_grid_mahalanobis = {\n",
    "   'n_neighbors': list(range(1, 11, 2)),\n",
    "   'weights': ['uniform', 'distance'],\n",
    "   'algorithm': ['auto']\n",
    "}\n",
    "\n",
    "# Perform grid search for Mahalanobis\n",
    "print(\"\\nStarting grid search for Mahalanobis metric...\")\n",
    "grid_search_mahalanobis = GridSearchCV(wine_knn_mahalanobis, wine_param_grid_mahalanobis, cv=5, scoring='accuracy', n_jobs=-1)\n",
    "grid_search_mahalanobis.fit(wine_pca_X_train, wine_pca_y_train)\n",
    "\n",
    "# Get best parameters and score\n",
    "mahalanobis_best_params = grid_search_mahalanobis.best_params_\n",
    "mahalanobis_best_score = grid_search_mahalanobis.best_score_\n",
    "print(f\"Best parameters (Mahalanobis): {mahalanobis_best_params}\")\n",
    "print(f\"Best cross-validation accuracy: {mahalanobis_best_score:.4f}\")\n",
    "\n",
    "# Determine overall best model\n",
    "best_scores = {\n",
    "    'Standard': (standard_best_score, standard_best_params),\n",
    "    'Mahalanobis': (mahalanobis_best_score, mahalanobis_best_params)\n",
    "}\n",
    "\n",
    "best_model_type = max(best_scores, key=lambda k: best_scores[k][0])\n",
    "best_score = best_scores[best_model_type][0]\n",
    "best_params = best_scores[best_model_type][1]\n",
    "\n",
    "print(f\"\\nOverall best model: {best_model_type}\")\n",
    "print(f\"Best parameters: {best_params}\")\n",
    "print(f\"Best cross-validation accuracy: {best_score:.4f}\")"
   ]
  },
  {
   "cell_type": "code",
   "execution_count": 11,
   "id": "4b480fc1",
   "metadata": {},
   "outputs": [
    {
     "name": "stdout",
     "output_type": "stream",
     "text": [
      "Test set accuracy: 0.9556\n",
      "\n",
      "Classification Report:\n",
      "              precision    recall  f1-score   support\n",
      "\n",
      "           0       0.94      1.00      0.97        15\n",
      "           1       1.00      0.89      0.94        18\n",
      "           2       0.92      1.00      0.96        12\n",
      "\n",
      "    accuracy                           0.96        45\n",
      "   macro avg       0.95      0.96      0.96        45\n",
      "weighted avg       0.96      0.96      0.96        45\n",
      "\n"
     ]
    },
    {
     "data": {
      "image/png": "[encoded data removed]",
      "text/plain": [
       "<Figure size 1000x800 with 2 Axes>"
      ]
     },
     "metadata": {},
     "output_type": "display_data"
    }
   ],
   "source": [
    "# Final model with best parameters\n",
    "wine_final_model = wine_grid_search.best_estimator_\n",
    "\n",
    "# Make predictions on test set\n",
    "wine_y_pred = wine_final_model.predict(wine_pca_X_test)\n",
    "\n",
    "# Check accuracy\n",
    "wine_test_accuracy = accuracy_score(wine_pca_y_test, wine_y_pred)\n",
    "\n",
    "# Create confusion matric\n",
    "wine_cm = confusion_matrix(wine_pca_y_test, wine_y_pred)\n",
    "\n",
    "# Run this cell without changes\n",
    "print(f\"Test set accuracy: {wine_test_accuracy:.4f}\")\n",
    "print(\"\\nClassification Report:\")\n",
    "print(classification_report(wine_pca_y_test, wine_y_pred))\n",
    "\n",
    "plt.figure(figsize=(10, 8))\n",
    "sns.heatmap(wine_cm, annot=True, fmt='d', cmap='Blues')\n",
    "plt.xlabel('Predicted')\n",
    "plt.ylabel('True')\n",
    "plt.title('Confusion Matrix')\n",
    "plt.show()"
   ]
  },
  {
   "cell_type": "markdown",
   "id": "86408d8d",
   "metadata": {},
   "source": [
    "# Chickwts Recommendation System\n",
    "\n",
    "Using the chicken weights dataset as a proxy, build a recommendation system that leverages PCA and similarity metrics to suggest comparable feed products that might produce similar results."
   ]
  },
  {
   "cell_type": "markdown",
   "id": "dfb6ce3e",
   "metadata": {},
   "source": [
    "## Load and Prepare the Dataset"
   ]
  },
  {
   "cell_type": "code",
   "execution_count": 12,
   "id": "5275f05f",
   "metadata": {},
   "outputs": [
    {
     "name": "stdout",
     "output_type": "stream",
     "text": [
      "<class 'pandas.core.frame.DataFrame'>\n",
      "RangeIndex: 100 entries, 0 to 99\n",
      "Data columns (total 16 columns):\n",
      " #   Column               Non-Null Count  Dtype  \n",
      "---  ------               --------------  -----  \n",
      " 0   feed_name            100 non-null    object \n",
      " 1   proteinContent       100 non-null    float64\n",
      " 2   fatContent           100 non-null    float64\n",
      " 3   fiberContent         100 non-null    float64\n",
      " 4   calciumContent       100 non-null    float64\n",
      " 5   phosphorusContent    100 non-null    float64\n",
      " 6   moistureContent      100 non-null    float64\n",
      " 7   ashContent           100 non-null    float64\n",
      " 8   metabolizableEnergy  100 non-null    int64  \n",
      " 9   lysineContent        100 non-null    float64\n",
      " 10  methionineContent    100 non-null    float64\n",
      " 11  particleSize         100 non-null    float64\n",
      " 12  density              100 non-null    float64\n",
      " 13  price                100 non-null    float64\n",
      " 14  shelfLife            100 non-null    int64  \n",
      " 15  weight               100 non-null    float64\n",
      "dtypes: float64(13), int64(2), object(1)\n",
      "memory usage: 12.6+ KB\n",
      "None\n"
     ]
    },
    {
     "data": {
      "text/html": [
       "<div>\n",
       "<style scoped>\n",
       "    .dataframe tbody tr th:only-of-type {\n",
       "        vertical-align: middle;\n",
       "    }\n",
       "\n",
       "    .dataframe tbody tr th {\n",
       "        vertical-align: top;\n",
       "    }\n",
       "\n",
       "    .dataframe thead th {\n",
       "        text-align: right;\n",
       "    }\n",
       "</style>\n",
       "<table border=\"1\" class=\"dataframe\">\n",
       "  <thead>\n",
       "    <tr style=\"text-align: right;\">\n",
       "      <th></th>\n",
       "      <th>feed_name</th>\n",
       "      <th>proteinContent</th>\n",
       "      <th>fatContent</th>\n",
       "      <th>fiberContent</th>\n",
       "      <th>calciumContent</th>\n",
       "      <th>phosphorusContent</th>\n",
       "      <th>moistureContent</th>\n",
       "      <th>ashContent</th>\n",
       "      <th>metabolizableEnergy</th>\n",
       "      <th>lysineContent</th>\n",
       "      <th>methionineContent</th>\n",
       "      <th>particleSize</th>\n",
       "      <th>density</th>\n",
       "      <th>price</th>\n",
       "      <th>shelfLife</th>\n",
       "      <th>weight</th>\n",
       "    </tr>\n",
       "  </thead>\n",
       "  <tbody>\n",
       "    <tr>\n",
       "      <th>0</th>\n",
       "      <td>FirstPeck</td>\n",
       "      <td>19.5</td>\n",
       "      <td>3.2</td>\n",
       "      <td>2.4</td>\n",
       "      <td>0.82</td>\n",
       "      <td>0.78</td>\n",
       "      <td>10.8</td>\n",
       "      <td>4.5</td>\n",
       "      <td>2921</td>\n",
       "      <td>0.96</td>\n",
       "      <td>0.43</td>\n",
       "      <td>3.5</td>\n",
       "      <td>0.57</td>\n",
       "      <td>1.71</td>\n",
       "      <td>295</td>\n",
       "      <td>16.285714</td>\n",
       "    </tr>\n",
       "    <tr>\n",
       "      <th>1</th>\n",
       "      <td>ChickStart Plus</td>\n",
       "      <td>18.2</td>\n",
       "      <td>3.8</td>\n",
       "      <td>3.9</td>\n",
       "      <td>3.02</td>\n",
       "      <td>0.68</td>\n",
       "      <td>9.3</td>\n",
       "      <td>6.9</td>\n",
       "      <td>2865</td>\n",
       "      <td>0.99</td>\n",
       "      <td>0.37</td>\n",
       "      <td>3.4</td>\n",
       "      <td>0.70</td>\n",
       "      <td>1.67</td>\n",
       "      <td>302</td>\n",
       "      <td>20.588235</td>\n",
       "    </tr>\n",
       "    <tr>\n",
       "      <th>2</th>\n",
       "      <td>EarlyGrow Formula</td>\n",
       "      <td>19.3</td>\n",
       "      <td>4.6</td>\n",
       "      <td>3.2</td>\n",
       "      <td>1.20</td>\n",
       "      <td>0.69</td>\n",
       "      <td>10.2</td>\n",
       "      <td>5.8</td>\n",
       "      <td>2950</td>\n",
       "      <td>1.05</td>\n",
       "      <td>0.38</td>\n",
       "      <td>3.3</td>\n",
       "      <td>0.69</td>\n",
       "      <td>1.65</td>\n",
       "      <td>331</td>\n",
       "      <td>20.909091</td>\n",
       "    </tr>\n",
       "    <tr>\n",
       "      <th>3</th>\n",
       "      <td>HatchMate Premier</td>\n",
       "      <td>20.2</td>\n",
       "      <td>3.7</td>\n",
       "      <td>3.8</td>\n",
       "      <td>3.16</td>\n",
       "      <td>0.63</td>\n",
       "      <td>11.4</td>\n",
       "      <td>5.7</td>\n",
       "      <td>2866</td>\n",
       "      <td>1.11</td>\n",
       "      <td>0.38</td>\n",
       "      <td>3.2</td>\n",
       "      <td>0.74</td>\n",
       "      <td>1.71</td>\n",
       "      <td>292</td>\n",
       "      <td>23.125000</td>\n",
       "    </tr>\n",
       "    <tr>\n",
       "      <th>4</th>\n",
       "      <td>PeepNourish</td>\n",
       "      <td>19.2</td>\n",
       "      <td>3.9</td>\n",
       "      <td>4.2</td>\n",
       "      <td>3.06</td>\n",
       "      <td>0.61</td>\n",
       "      <td>9.3</td>\n",
       "      <td>5.9</td>\n",
       "      <td>2860</td>\n",
       "      <td>0.91</td>\n",
       "      <td>0.34</td>\n",
       "      <td>2.9</td>\n",
       "      <td>0.64</td>\n",
       "      <td>1.67</td>\n",
       "      <td>309</td>\n",
       "      <td>22.068966</td>\n",
       "    </tr>\n",
       "  </tbody>\n",
       "</table>\n",
       "</div>"
      ],
      "text/plain": [
       "           feed_name  proteinContent  fatContent  fiberContent  \\\n",
       "0          FirstPeck            19.5         3.2           2.4   \n",
       "1    ChickStart Plus            18.2         3.8           3.9   \n",
       "2  EarlyGrow Formula            19.3         4.6           3.2   \n",
       "3  HatchMate Premier            20.2         3.7           3.8   \n",
       "4        PeepNourish            19.2         3.9           4.2   \n",
       "\n",
       "   calciumContent  phosphorusContent  moistureContent  ashContent  \\\n",
       "0            0.82               0.78             10.8         4.5   \n",
       "1            3.02               0.68              9.3         6.9   \n",
       "2            1.20               0.69             10.2         5.8   \n",
       "3            3.16               0.63             11.4         5.7   \n",
       "4            3.06               0.61              9.3         5.9   \n",
       "\n",
       "   metabolizableEnergy  lysineContent  methionineContent  particleSize  \\\n",
       "0                 2921           0.96               0.43           3.5   \n",
       "1                 2865           0.99               0.37           3.4   \n",
       "2                 2950           1.05               0.38           3.3   \n",
       "3                 2866           1.11               0.38           3.2   \n",
       "4                 2860           0.91               0.34           2.9   \n",
       "\n",
       "   density  price  shelfLife     weight  \n",
       "0     0.57   1.71        295  16.285714  \n",
       "1     0.70   1.67        302  20.588235  \n",
       "2     0.69   1.65        331  20.909091  \n",
       "3     0.74   1.71        292  23.125000  \n",
       "4     0.64   1.67        309  22.068966  "
      ]
     },
     "execution_count": 12,
     "metadata": {},
     "output_type": "execute_result"
    }
   ],
   "source": [
    "chw_df = pd.read_csv('chickwts_data.csv')\n",
    "\n",
    "print(chw_df.info())\n",
    "chw_df.head()"
   ]
  },
  {
   "cell_type": "code",
   "execution_count": 13,
   "id": "2a86cdb6",
   "metadata": {},
   "outputs": [
    {
     "data": {
      "text/plain": [
       "100"
      ]
     },
     "execution_count": 13,
     "metadata": {},
     "output_type": "execute_result"
    }
   ],
   "source": [
    "len(chw_df['feed_name'].unique())"
   ]
  },
  {
   "cell_type": "code",
   "execution_count": 14,
   "id": "9142763a",
   "metadata": {},
   "outputs": [
    {
     "data": {
      "text/plain": [
       "((100, 16), (100, 15))"
      ]
     },
     "execution_count": 14,
     "metadata": {},
     "output_type": "execute_result"
    }
   ],
   "source": [
    "num_chw = chw_df.drop('feed_name', axis=1)\n",
    "\n",
    "# Standardize the data\n",
    "scaler = StandardScaler()\n",
    "chw_df_scaled = scaler.fit_transform(num_chw)\n",
    "\n",
    "chw_df.shape, chw_df_scaled.shape"
   ]
  },
  {
   "cell_type": "markdown",
   "id": "c1e8bc7d",
   "metadata": {},
   "source": [
    "## Recommendation System"
   ]
  },
  {
   "cell_type": "code",
   "execution_count": 15,
   "id": "4eba5e42",
   "metadata": {},
   "outputs": [],
   "source": [
    "# Initialize PCA\n",
    "chw_pca = PCA()\n",
    "\n",
    "# Fit PCA model to scaled data\n",
    "chw_pca.fit(chw_df_scaled)\n",
    "\n",
    "# Get explained variance ratio\n",
    "chw_explained_variance_ratio = chw_pca.explained_variance_ratio_\n",
    "\n",
    "# Tranform the standardized data to get principal components\n",
    "chw_X_pca = chw_pca.transform(chw_df_scaled)\n",
    "\n",
    "# Create DataFrame with principal components\n",
    "chw_pca_df = pd.DataFrame(\n",
    "    data = chw_X_pca,\n",
    "    columns = [f'PC{i+1}' for i in range (chw_X_pca.shape[1])]\n",
    ")\n",
    "chw_pca_df['feed_name'] = chw_df['feed_name']"
   ]
  },
  {
   "cell_type": "code",
   "execution_count": 16,
   "id": "0225542a",
   "metadata": {},
   "outputs": [
    {
     "data": {
      "text/html": [
       "<div>\n",
       "<style scoped>\n",
       "    .dataframe tbody tr th:only-of-type {\n",
       "        vertical-align: middle;\n",
       "    }\n",
       "\n",
       "    .dataframe tbody tr th {\n",
       "        vertical-align: top;\n",
       "    }\n",
       "\n",
       "    .dataframe thead th {\n",
       "        text-align: right;\n",
       "    }\n",
       "</style>\n",
       "<table border=\"1\" class=\"dataframe\">\n",
       "  <thead>\n",
       "    <tr style=\"text-align: right;\">\n",
       "      <th></th>\n",
       "      <th>PC1</th>\n",
       "      <th>PC2</th>\n",
       "      <th>PC3</th>\n",
       "      <th>PC4</th>\n",
       "      <th>PC5</th>\n",
       "      <th>PC6</th>\n",
       "      <th>PC7</th>\n",
       "      <th>PC8</th>\n",
       "      <th>PC9</th>\n",
       "      <th>PC10</th>\n",
       "      <th>PC11</th>\n",
       "      <th>PC12</th>\n",
       "      <th>PC13</th>\n",
       "      <th>PC14</th>\n",
       "      <th>PC15</th>\n",
       "      <th>feed_name</th>\n",
       "    </tr>\n",
       "  </thead>\n",
       "  <tbody>\n",
       "    <tr>\n",
       "      <th>0</th>\n",
       "      <td>2.165341</td>\n",
       "      <td>-1.662877</td>\n",
       "      <td>-2.001974</td>\n",
       "      <td>0.287358</td>\n",
       "      <td>1.295925</td>\n",
       "      <td>-2.129853</td>\n",
       "      <td>-1.021869</td>\n",
       "      <td>-0.044351</td>\n",
       "      <td>0.172055</td>\n",
       "      <td>0.291492</td>\n",
       "      <td>0.440832</td>\n",
       "      <td>0.647726</td>\n",
       "      <td>0.311861</td>\n",
       "      <td>-0.538961</td>\n",
       "      <td>0.323550</td>\n",
       "      <td>FirstPeck</td>\n",
       "    </tr>\n",
       "    <tr>\n",
       "      <th>1</th>\n",
       "      <td>-0.437253</td>\n",
       "      <td>-2.154582</td>\n",
       "      <td>0.447715</td>\n",
       "      <td>-0.898401</td>\n",
       "      <td>-0.563422</td>\n",
       "      <td>0.759027</td>\n",
       "      <td>-1.072722</td>\n",
       "      <td>-1.374545</td>\n",
       "      <td>-1.014007</td>\n",
       "      <td>0.237171</td>\n",
       "      <td>-0.337924</td>\n",
       "      <td>0.333565</td>\n",
       "      <td>0.117440</td>\n",
       "      <td>-0.198200</td>\n",
       "      <td>0.094137</td>\n",
       "      <td>ChickStart Plus</td>\n",
       "    </tr>\n",
       "    <tr>\n",
       "      <th>2</th>\n",
       "      <td>1.194280</td>\n",
       "      <td>-1.615269</td>\n",
       "      <td>1.185500</td>\n",
       "      <td>0.028282</td>\n",
       "      <td>0.295071</td>\n",
       "      <td>0.416842</td>\n",
       "      <td>0.467878</td>\n",
       "      <td>0.607307</td>\n",
       "      <td>-0.004217</td>\n",
       "      <td>0.134765</td>\n",
       "      <td>-0.481279</td>\n",
       "      <td>-0.934107</td>\n",
       "      <td>0.433634</td>\n",
       "      <td>0.030678</td>\n",
       "      <td>0.168912</td>\n",
       "      <td>EarlyGrow Formula</td>\n",
       "    </tr>\n",
       "    <tr>\n",
       "      <th>3</th>\n",
       "      <td>0.247816</td>\n",
       "      <td>-1.225305</td>\n",
       "      <td>-1.485480</td>\n",
       "      <td>-2.520275</td>\n",
       "      <td>0.587439</td>\n",
       "      <td>1.017166</td>\n",
       "      <td>0.148764</td>\n",
       "      <td>-0.792902</td>\n",
       "      <td>-0.303972</td>\n",
       "      <td>-0.279604</td>\n",
       "      <td>-1.038816</td>\n",
       "      <td>0.454317</td>\n",
       "      <td>-0.064684</td>\n",
       "      <td>-0.183927</td>\n",
       "      <td>-0.054973</td>\n",
       "      <td>HatchMate Premier</td>\n",
       "    </tr>\n",
       "    <tr>\n",
       "      <th>4</th>\n",
       "      <td>-0.956156</td>\n",
       "      <td>-1.177873</td>\n",
       "      <td>0.449352</td>\n",
       "      <td>-0.123604</td>\n",
       "      <td>-0.678188</td>\n",
       "      <td>-0.321288</td>\n",
       "      <td>0.061722</td>\n",
       "      <td>-1.514429</td>\n",
       "      <td>-0.376512</td>\n",
       "      <td>-0.103643</td>\n",
       "      <td>-0.304447</td>\n",
       "      <td>0.394461</td>\n",
       "      <td>-0.606592</td>\n",
       "      <td>0.222464</td>\n",
       "      <td>0.050270</td>\n",
       "      <td>PeepNourish</td>\n",
       "    </tr>\n",
       "  </tbody>\n",
       "</table>\n",
       "</div>"
      ],
      "text/plain": [
       "        PC1       PC2       PC3       PC4       PC5       PC6       PC7  \\\n",
       "0  2.165341 -1.662877 -2.001974  0.287358  1.295925 -2.129853 -1.021869   \n",
       "1 -0.437253 -2.154582  0.447715 -0.898401 -0.563422  0.759027 -1.072722   \n",
       "2  1.194280 -1.615269  1.185500  0.028282  0.295071  0.416842  0.467878   \n",
       "3  0.247816 -1.225305 -1.485480 -2.520275  0.587439  1.017166  0.148764   \n",
       "4 -0.956156 -1.177873  0.449352 -0.123604 -0.678188 -0.321288  0.061722   \n",
       "\n",
       "        PC8       PC9      PC10      PC11      PC12      PC13      PC14  \\\n",
       "0 -0.044351  0.172055  0.291492  0.440832  0.647726  0.311861 -0.538961   \n",
       "1 -1.374545 -1.014007  0.237171 -0.337924  0.333565  0.117440 -0.198200   \n",
       "2  0.607307 -0.004217  0.134765 -0.481279 -0.934107  0.433634  0.030678   \n",
       "3 -0.792902 -0.303972 -0.279604 -1.038816  0.454317 -0.064684 -0.183927   \n",
       "4 -1.514429 -0.376512 -0.103643 -0.304447  0.394461 -0.606592  0.222464   \n",
       "\n",
       "       PC15          feed_name  \n",
       "0  0.323550          FirstPeck  \n",
       "1  0.094137    ChickStart Plus  \n",
       "2  0.168912  EarlyGrow Formula  \n",
       "3 -0.054973  HatchMate Premier  \n",
       "4  0.050270        PeepNourish  "
      ]
     },
     "execution_count": 16,
     "metadata": {},
     "output_type": "execute_result"
    }
   ],
   "source": [
    "chw_pca_df.head()"
   ]
  },
  {
   "cell_type": "code",
   "execution_count": 39,
   "id": "6c2b0328",
   "metadata": {},
   "outputs": [],
   "source": [
    "chw_prep_df = chw_pca_df[['feed_name', 'PC1']].set_index('feed_name')\n",
    "\n",
    "# Calculate cosine similarity\n",
    "chw_cosine_sim_matrix = cosine_similarity(chw_prep_df)\n",
    "chw_cosine_dist_matrix = 1 - chw_cosine_sim_matrix\n",
    "\n",
    "feed_list = chw_pca_df['feed_name'].tolist()\n",
    "chw_cosine_df = pd.DataFrame(chw_cosine_dist_matrix, index=feed_list, columns=feed_list)"
   ]
  },
  {
   "cell_type": "code",
   "execution_count": 40,
   "id": "0bc6fd31",
   "metadata": {},
   "outputs": [],
   "source": [
    "def recommend_feed(feed_brand, dis_matrix, feed_list, n=2):\n",
    "    \"\"\"Recommend n similar feed brands given feed brand\"\"\"\n",
    "    # Find index of brand\n",
    "    try:\n",
    "        feed_idx = feed_list.index(feed_brand)\n",
    "    except ValueError:\n",
    "        return \"Feed brand not found\"\n",
    "\n",
    "    # Get distances for specified brand\n",
    "    distances = dis_matrix[feed_idx].copy()\n",
    "\n",
    "    # Set distance of self to infinity so it is not selected\n",
    "    distances[feed_idx] = float('inf')\n",
    "\n",
    "    # Get indixes of similar brands\n",
    "    most_similar_idx = np.argsort(distances)[:n]\n",
    "\n",
    "    # Return brands\n",
    "    recommendations = [f\"{feed_list[idx]} (distance: {distances[idx]:.4f})\" \n",
    "                      for idx in most_similar_idx]\n",
    "    return recommendations"
   ]
  },
  {
   "cell_type": "code",
   "execution_count": 42,
   "id": "eab9ceac",
   "metadata": {},
   "outputs": [
    {
     "name": "stdout",
     "output_type": "stream",
     "text": [
      "\n",
      "Feed Recommendations:\n",
      "\n",
      "For 'PulletFirst Complete':\n",
      "  MeatMax Complete (distance: 0.0000)\n",
      "  GrowthFinish Advanced (distance: 0.0000)\n",
      "\n",
      "For 'NestResult Formula':\n",
      "  MeatMax Complete (distance: 0.0000)\n",
      "  MatureBlend Complete (distance: 0.0000)\n",
      "\n",
      "For 'MarketPrep Formula':\n",
      "  FirstPeck (distance: 0.0000)\n",
      "  ShellStrength Pro (distance: 0.0000)\n"
     ]
    }
   ],
   "source": [
    "test_brands = ['PulletFirst Complete', 'NestResult Formula', 'MarketPrep Formula']\n",
    "\n",
    "print(\"\\nFeed Recommendations:\")\n",
    "for feed in test_brands:\n",
    "    print(f\"\\nFor '{feed}':\")\n",
    "    print(\"  \" + \"\\n  \".join(recommend_feed(feed, chw_cosine_dist_matrix, feed_list)))"
   ]
  },
  {
   "cell_type": "markdown",
   "id": "5816aeb1",
   "metadata": {},
   "source": [
    "# US Arrests Natural Groupings\n",
    "\n",
    "Apply clustering techniques (both K-Means and Gaussian Mixture Models) to discover natural groupings in crime data, using feature selection and dimensionality reduction to focus on the most relevant patterns."
   ]
  },
  {
   "cell_type": "markdown",
   "id": "10833484",
   "metadata": {},
   "source": [
    "## Load and Prepare Dataset"
   ]
  },
  {
   "cell_type": "code",
   "execution_count": 3,
   "id": "131e7ea0",
   "metadata": {},
   "outputs": [
    {
     "name": "stdout",
     "output_type": "stream",
     "text": [
      "<class 'pandas.core.frame.DataFrame'>\n",
      "RangeIndex: 50 entries, 0 to 49\n",
      "Data columns (total 5 columns):\n",
      " #   Column      Non-Null Count  Dtype  \n",
      "---  ------      --------------  -----  \n",
      " 0   Unnamed: 0  50 non-null     object \n",
      " 1   Murder      50 non-null     float64\n",
      " 2   Assault     50 non-null     int64  \n",
      " 3   UrbanPop    50 non-null     int64  \n",
      " 4   Rape        50 non-null     float64\n",
      "dtypes: float64(2), int64(2), object(1)\n",
      "memory usage: 2.1+ KB\n",
      "None\n"
     ]
    },
    {
     "data": {
      "text/html": [
       "<div>\n",
       "<style scoped>\n",
       "    .dataframe tbody tr th:only-of-type {\n",
       "        vertical-align: middle;\n",
       "    }\n",
       "\n",
       "    .dataframe tbody tr th {\n",
       "        vertical-align: top;\n",
       "    }\n",
       "\n",
       "    .dataframe thead th {\n",
       "        text-align: right;\n",
       "    }\n",
       "</style>\n",
       "<table border=\"1\" class=\"dataframe\">\n",
       "  <thead>\n",
       "    <tr style=\"text-align: right;\">\n",
       "      <th></th>\n",
       "      <th>Unnamed: 0</th>\n",
       "      <th>Murder</th>\n",
       "      <th>Assault</th>\n",
       "      <th>UrbanPop</th>\n",
       "      <th>Rape</th>\n",
       "    </tr>\n",
       "  </thead>\n",
       "  <tbody>\n",
       "    <tr>\n",
       "      <th>0</th>\n",
       "      <td>Alabama</td>\n",
       "      <td>13.2</td>\n",
       "      <td>236</td>\n",
       "      <td>58</td>\n",
       "      <td>21.2</td>\n",
       "    </tr>\n",
       "    <tr>\n",
       "      <th>1</th>\n",
       "      <td>Alaska</td>\n",
       "      <td>10.0</td>\n",
       "      <td>263</td>\n",
       "      <td>48</td>\n",
       "      <td>44.5</td>\n",
       "    </tr>\n",
       "    <tr>\n",
       "      <th>2</th>\n",
       "      <td>Arizona</td>\n",
       "      <td>8.1</td>\n",
       "      <td>294</td>\n",
       "      <td>80</td>\n",
       "      <td>31.0</td>\n",
       "    </tr>\n",
       "    <tr>\n",
       "      <th>3</th>\n",
       "      <td>Arkansas</td>\n",
       "      <td>8.8</td>\n",
       "      <td>190</td>\n",
       "      <td>50</td>\n",
       "      <td>19.5</td>\n",
       "    </tr>\n",
       "    <tr>\n",
       "      <th>4</th>\n",
       "      <td>California</td>\n",
       "      <td>9.0</td>\n",
       "      <td>276</td>\n",
       "      <td>91</td>\n",
       "      <td>40.6</td>\n",
       "    </tr>\n",
       "  </tbody>\n",
       "</table>\n",
       "</div>"
      ],
      "text/plain": [
       "   Unnamed: 0  Murder  Assault  UrbanPop  Rape\n",
       "0     Alabama    13.2      236        58  21.2\n",
       "1      Alaska    10.0      263        48  44.5\n",
       "2     Arizona     8.1      294        80  31.0\n",
       "3    Arkansas     8.8      190        50  19.5\n",
       "4  California     9.0      276        91  40.6"
      ]
     },
     "execution_count": 3,
     "metadata": {},
     "output_type": "execute_result"
    }
   ],
   "source": [
    "arrests_df = pd.read_csv('arrests_data.csv')\n",
    "\n",
    "print(arrests_df.info())\n",
    "arrests_df.head()"
   ]
  },
  {
   "cell_type": "code",
   "execution_count": 44,
   "id": "7aa1556b",
   "metadata": {},
   "outputs": [
    {
     "data": {
      "text/plain": [
       "Index(['Unnamed: 0', 'Murder', 'Assault', 'UrbanPop', 'Rape'], dtype='object')"
      ]
     },
     "execution_count": 44,
     "metadata": {},
     "output_type": "execute_result"
    }
   ],
   "source": [
    "arrests_df.columns"
   ]
  },
  {
   "cell_type": "code",
   "execution_count": 45,
   "id": "ba4b0ec2",
   "metadata": {},
   "outputs": [
    {
     "data": {
      "text/plain": [
       "array(['Alabama', 'Alaska', 'Arizona', 'Arkansas', 'California',\n",
       "       'Colorado', 'Connecticut', 'Delaware', 'Florida', 'Georgia',\n",
       "       'Hawaii', 'Idaho', 'Illinois', 'Indiana', 'Iowa', 'Kansas',\n",
       "       'Kentucky', 'Louisiana', 'Maine', 'Maryland', 'Massachusetts',\n",
       "       'Michigan', 'Minnesota', 'Mississippi', 'Missouri', 'Montana',\n",
       "       'Nebraska', 'Nevada', 'New Hampshire', 'New Jersey', 'New Mexico',\n",
       "       'New York', 'North Carolina', 'North Dakota', 'Ohio', 'Oklahoma',\n",
       "       'Oregon', 'Pennsylvania', 'Rhode Island', 'South Carolina',\n",
       "       'South Dakota', 'Tennessee', 'Texas', 'Utah', 'Vermont',\n",
       "       'Virginia', 'Washington', 'West Virginia', 'Wisconsin', 'Wyoming'],\n",
       "      dtype=object)"
      ]
     },
     "execution_count": 45,
     "metadata": {},
     "output_type": "execute_result"
    }
   ],
   "source": [
    "arrests_df['Unnamed: 0'].unique()"
   ]
  },
  {
   "cell_type": "code",
   "execution_count": 4,
   "id": "26f37711",
   "metadata": {},
   "outputs": [],
   "source": [
    "arrests_df = arrests_df.rename({'Unnamed: 0': 'State'}, axis=1)"
   ]
  },
  {
   "cell_type": "code",
   "execution_count": 47,
   "id": "7d9bf83a",
   "metadata": {},
   "outputs": [
    {
     "data": {
      "text/html": [
       "<div>\n",
       "<style scoped>\n",
       "    .dataframe tbody tr th:only-of-type {\n",
       "        vertical-align: middle;\n",
       "    }\n",
       "\n",
       "    .dataframe tbody tr th {\n",
       "        vertical-align: top;\n",
       "    }\n",
       "\n",
       "    .dataframe thead th {\n",
       "        text-align: right;\n",
       "    }\n",
       "</style>\n",
       "<table border=\"1\" class=\"dataframe\">\n",
       "  <thead>\n",
       "    <tr style=\"text-align: right;\">\n",
       "      <th></th>\n",
       "      <th>State</th>\n",
       "      <th>Murder</th>\n",
       "      <th>Assault</th>\n",
       "      <th>UrbanPop</th>\n",
       "      <th>Rape</th>\n",
       "    </tr>\n",
       "  </thead>\n",
       "  <tbody>\n",
       "    <tr>\n",
       "      <th>0</th>\n",
       "      <td>Alabama</td>\n",
       "      <td>13.2</td>\n",
       "      <td>236</td>\n",
       "      <td>58</td>\n",
       "      <td>21.2</td>\n",
       "    </tr>\n",
       "    <tr>\n",
       "      <th>1</th>\n",
       "      <td>Alaska</td>\n",
       "      <td>10.0</td>\n",
       "      <td>263</td>\n",
       "      <td>48</td>\n",
       "      <td>44.5</td>\n",
       "    </tr>\n",
       "    <tr>\n",
       "      <th>2</th>\n",
       "      <td>Arizona</td>\n",
       "      <td>8.1</td>\n",
       "      <td>294</td>\n",
       "      <td>80</td>\n",
       "      <td>31.0</td>\n",
       "    </tr>\n",
       "    <tr>\n",
       "      <th>3</th>\n",
       "      <td>Arkansas</td>\n",
       "      <td>8.8</td>\n",
       "      <td>190</td>\n",
       "      <td>50</td>\n",
       "      <td>19.5</td>\n",
       "    </tr>\n",
       "    <tr>\n",
       "      <th>4</th>\n",
       "      <td>California</td>\n",
       "      <td>9.0</td>\n",
       "      <td>276</td>\n",
       "      <td>91</td>\n",
       "      <td>40.6</td>\n",
       "    </tr>\n",
       "  </tbody>\n",
       "</table>\n",
       "</div>"
      ],
      "text/plain": [
       "        State  Murder  Assault  UrbanPop  Rape\n",
       "0     Alabama    13.2      236        58  21.2\n",
       "1      Alaska    10.0      263        48  44.5\n",
       "2     Arizona     8.1      294        80  31.0\n",
       "3    Arkansas     8.8      190        50  19.5\n",
       "4  California     9.0      276        91  40.6"
      ]
     },
     "execution_count": 47,
     "metadata": {},
     "output_type": "execute_result"
    }
   ],
   "source": [
    "arrests_df.head()"
   ]
  },
  {
   "cell_type": "code",
   "execution_count": 5,
   "id": "129fd683",
   "metadata": {},
   "outputs": [
    {
     "data": {
      "text/plain": [
       "((50, 5), (50, 4))"
      ]
     },
     "execution_count": 5,
     "metadata": {},
     "output_type": "execute_result"
    }
   ],
   "source": [
    "num_arrests = arrests_df.drop('State', axis=1)\n",
    "\n",
    "# Standardize the dara\n",
    "scaler = StandardScaler()\n",
    "arrests_df_scaled = scaler.fit_transform(num_arrests)\n",
    "\n",
    "arrests_df.shape, arrests_df_scaled.shape"
   ]
  },
  {
   "cell_type": "markdown",
   "id": "f86669ef",
   "metadata": {},
   "source": [
    "## Clustering (K-Means & GMM)"
   ]
  },
  {
   "cell_type": "code",
   "execution_count": 6,
   "id": "5c576e43",
   "metadata": {},
   "outputs": [
    {
     "data": {
      "text/plain": [
       "Text(0.5, 1.0, 'Elbow Method for K-Means')"
      ]
     },
     "execution_count": 6,
     "metadata": {},
     "output_type": "execute_result"
    },
    {
     "data": {
      "image/png": "[encoded data removed]",
      "text/plain": [
       "<Figure size 800x500 with 1 Axes>"
      ]
     },
     "metadata": {},
     "output_type": "display_data"
    }
   ],
   "source": [
    "# Calculate WCSS for k-means\n",
    "wcss = []\n",
    "k_values = range(1,10)\n",
    "\n",
    "for k in k_values:\n",
    "    kmeans = KMeans(n_clusters=k, random_state=42, n_init=10)\n",
    "    kmeans.fit(arrests_df_scaled)\n",
    "    wcss.append(kmeans.inertia_)\n",
    "\n",
    "# Plot Elbow Method\n",
    "plt.figure(figsize=(8,5))\n",
    "plt.plot(k_values, wcss, marker='o', linestyle='-')\n",
    "plt.xlabel(\"Number of Clusters (K)\")\n",
    "plt.ylabel(\"WCSS\")\n",
    "plt.title(\"Elbow Method for K-Means\")"
   ]
  },
  {
   "cell_type": "code",
   "execution_count": 7,
   "id": "a56de4d0",
   "metadata": {},
   "outputs": [
    {
     "data": {
      "image/png": "[encoded data removed]",
      "text/plain": [
       "<Figure size 800x500 with 1 Axes>"
      ]
     },
     "metadata": {},
     "output_type": "display_data"
    }
   ],
   "source": [
    "# Calculate AIC and BIC for GMM\n",
    "\n",
    "bic_scores = []\n",
    "aic_scores = []\n",
    "\n",
    "for k in k_values:\n",
    "    gmm = GaussianMixture(n_components=k, random_state=42, n_init=10)\n",
    "    gmm.fit(arrests_df_scaled)\n",
    "    bic_scores.append(gmm.bic(arrests_df_scaled))\n",
    "    aic_scores.append(gmm.aic(arrests_df_scaled))\n",
    "\n",
    "# Plot AIC and BIC\n",
    "plt.figure(figsize=(8,5))\n",
    "plt.plot(k_values, bic_scores, marker='o', linestyle='-', color='blue', label='bic')\n",
    "plt.plot(k_values, aic_scores, marker='o', linestyle='-', color='green', label='aic')\n",
    "plt.xlabel(\"Number of Components (K)\")\n",
    "plt.ylabel(\"Score\")\n",
    "plt.legend()\n",
    "plt.title(\"BIC and AIC Scores for Optimal K (GMM)\")\n",
    "plt.grid(True)\n",
    "plt.show()"
   ]
  },
  {
   "cell_type": "code",
   "execution_count": 8,
   "id": "1d8383f0",
   "metadata": {},
   "outputs": [
    {
     "data": {
      "text/plain": [
       "(np.float64(0.4085), np.float64(0.1923))"
      ]
     },
     "execution_count": 8,
     "metadata": {},
     "output_type": "execute_result"
    }
   ],
   "source": [
    "# K-Means\n",
    "optimal_k = 2 # Based on Elbow Method\n",
    "kmeans = KMeans(n_clusters=optimal_k, random_state=42, n_init=10)\n",
    "kmeans.fit(arrests_df_scaled)\n",
    "arrests_df['KMeans_Cluster'] = kmeans.fit_predict(arrests_df_scaled)\n",
    "\n",
    "# GMM\n",
    "optimal_k_bic = 9\n",
    "gmm = GaussianMixture(n_components=optimal_k_bic, random_state=42, n_init=10)\n",
    "gmm.fit(arrests_df_scaled)\n",
    "arrests_df[\"GMM_Cluster\"] = gmm.predict(arrests_df_scaled)\n",
    "arrests_df[\"GMM_Probability\"] = gmm.predict_proba(arrests_df_scaled).max(axis=1)\n",
    "\n",
    "# Silhouette Scores\n",
    "silhouette_kmeans = silhouette_score(arrests_df_scaled, arrests_df['KMeans_Cluster'])\n",
    "silhouette_gmm = silhouette_score(arrests_df_scaled, arrests_df['GMM_Cluster'])\n",
    "\n",
    "round(silhouette_kmeans, 4), round(silhouette_gmm, 4)"
   ]
  },
  {
   "cell_type": "code",
   "execution_count": 9,
   "id": "d49628c5",
   "metadata": {},
   "outputs": [
    {
     "data": {
      "image/png": "[encoded data removed]",
      "text/plain": [
       "<Figure size 1400x600 with 2 Axes>"
      ]
     },
     "metadata": {},
     "output_type": "display_data"
    }
   ],
   "source": [
    "# Create subplots\n",
    "fig, axes = plt.subplots(1, 2, figsize=(14,6))\n",
    "\n",
    "# K-Means Clustering Plot\n",
    "axes[0].scatter(arrests_df_scaled[:, 0], arrests_df_scaled[:, 1], c=arrests_df['KMeans_Cluster'], cmap='viridis', alpha=0.5)\n",
    "axes[0].scatter(kmeans.cluster_centers_[:, 0], kmeans.cluster_centers_[:, 1],\n",
    "                s=100, c='red', marker='o', edgecolor='k', linewidth=2, label='Cluster Centers')\n",
    "axes[0].set_title('K-Means Clustering (K=2)')\n",
    "axes[0].grid(True, linestyle='--', alpha=0.5)\n",
    "\n",
    "# GMM Clustering Plot\n",
    "axes[1].scatter(arrests_df_scaled[:, 0], arrests_df_scaled[:, 1], c=arrests_df['GMM_Cluster'], cmap='viridis', alpha=0.5)\n",
    "axes[1].scatter(gmm.means_[:, 0], gmm.means_[:, 1],\n",
    "                s=100, c='blue', marker='o', edgecolor='k', linewidth=2, label='Cluster Centers')\n",
    "axes[1].set_title('GMM Clustering (K=9)')\n",
    "axes[1].grid(True, linestyle='--', alpha=0.5)\n",
    "\n",
    "# Show the plots\n",
    "plt.tight_layout()\n",
    "plt.show()"
   ]
  }
 ],
 "metadata": {
  "kernelspec": {
   "display_name": "venv",
   "language": "python",
   "name": "python3"
  },
  "language_info": {
   "codemirror_mode": {
    "name": "ipython",
    "version": 3
   },
   "file_extension": ".py",
   "mimetype": "text/x-python",
   "name": "python",
   "nbconvert_exporter": "python",
   "pygments_lexer": "ipython3",
   "version": "3.10.12"
  }
 },
 "nbformat": 4,
 "nbformat_minor": 5
}
